{
 "cells": [
  {
   "cell_type": "markdown",
   "metadata": {},
   "source": [
    "# Cart Pole Manual Solution"
   ]
  },
  {
   "cell_type": "markdown",
   "metadata": {},
   "source": [
    "For the cart pole solution, according to the carpole wiki this problem is considered solved when the total reward is > 200.  For this implementation the average score is ~250.  How it is solved is that it takes all of the parameters and adds them together.  If the total is greater than zero then it moves left, otherwise it moves right.  The cart position however, is multiplied by -1 as the opposite would help get the cart back to the center."
   ]
  },
  {
   "cell_type": "code",
   "execution_count": 2,
   "metadata": {},
   "outputs": [
    {
     "name": "stdout",
     "output_type": "stream",
     "text": [
      "Reward: 257.0\n"
     ]
    }
   ],
   "source": [
    "import gym\n",
    "import numpy as np\n",
    "import time\n",
    "import random\n",
    "import math\n",
    "\n",
    "env = gym.make(\"CartPole-v1\")\n",
    "reward_list = []\n",
    "\n",
    "state = env.reset()\n",
    "total_reward = 0\n",
    "for _ in np.arange(2001):\n",
    "    cart_pos, cart_vel, pole_ang, pole_vel = state\n",
    "    total = cart_pos*-1 + cart_vel + pole_ang + pole_vel\n",
    "    action = 0 if total < 0  else 1\n",
    "    state, reward, done, _ = env.step(action)\n",
    "    total_reward += reward\n",
    "    env.render()\n",
    "    if done: \n",
    "        print('Reward:', total_reward)\n",
    "        break\n",
    "env.close()"
   ]
  },
  {
   "cell_type": "code",
   "execution_count": null,
   "metadata": {},
   "outputs": [],
   "source": []
  }
 ],
 "metadata": {
  "kernelspec": {
   "display_name": "Python 3",
   "language": "python",
   "name": "python3"
  },
  "language_info": {
   "codemirror_mode": {
    "name": "ipython",
    "version": 3
   },
   "file_extension": ".py",
   "mimetype": "text/x-python",
   "name": "python",
   "nbconvert_exporter": "python",
   "pygments_lexer": "ipython3",
   "version": "3.6.7"
  }
 },
 "nbformat": 4,
 "nbformat_minor": 2
}
